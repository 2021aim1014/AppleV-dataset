{
 "cells": [
  {
   "cell_type": "code",
   "execution_count": 1,
   "id": "51a2e87f",
   "metadata": {},
   "outputs": [],
   "source": [
    "from architecture.CustomBaselineCNN import CustomBaselineCNN\n",
    "from AppleDataset import AppleDataset, ValidDataset\n",
    "from train import train_model"
   ]
  },
  {
   "cell_type": "code",
   "execution_count": 2,
   "id": "b29cc86d",
   "metadata": {},
   "outputs": [],
   "source": [
    "from torch.utils.data import DataLoader\n",
    "import torch\n",
    "import torch.nn as nn\n",
    "import torch.optim as optim\n",
    "\n",
    "from tqdm import tqdm\n",
    "import numpy as np\n",
    "import pandas as pd\n",
    "import os"
   ]
  },
  {
   "cell_type": "code",
   "execution_count": 3,
   "id": "f7913b64",
   "metadata": {},
   "outputs": [
    {
     "name": "stderr",
     "output_type": "stream",
     "text": [
      "Loading dataset:   0%|          | 0/9 [00:00<?, ?it/s]"
     ]
    },
    {
     "name": "stderr",
     "output_type": "stream",
     "text": [
      "Loading dataset: 100%|██████████| 9/9 [00:00<00:00, 150.89it/s]\n"
     ]
    },
    {
     "name": "stdout",
     "output_type": "stream",
     "text": [
      "⚠️ Warning: Could not read .DS_Store, skipping.\n"
     ]
    },
    {
     "name": "stderr",
     "output_type": "stream",
     "text": [
      "Loading dataset: 100%|██████████| 1678/1678 [00:08<00:00, 208.17it/s]\n",
      "Loading dataset: 100%|██████████| 283/283 [00:01<00:00, 170.40it/s]\n"
     ]
    }
   ],
   "source": [
    "images_dir_train = \"../dataset/crop_box_train/\"\n",
    "images_dir_val = \"../dataset/crop_box_val/\"\n",
    "images_dir_test = \"../dataset/crop_box_test/\"\n",
    "labels_dir = \"../dataset/AppleV_intrinsic.csv\"\n",
    "\n",
    "label_col_1 = ['TSS_brix']\n",
    "label_col_2 = ['Firmness']\n",
    "label_col_3 = ['Titerabile acid percentage']\n",
    "label_col = ['TSS_brix', 'Firmness', 'Titerabile acid percentage']\n",
    "\n",
    "train_dataset = AppleDataset(images_dir_train, labels_dir, stride=224, label_col=label_col)\n",
    "val_dataset = ValidDataset(images_dir_val, labels_dir, label_col=label_col)\n",
    "test_dataset = ValidDataset(images_dir_test, labels_dir, label_col=label_col)"
   ]
  },
  {
   "cell_type": "code",
   "execution_count": 4,
   "id": "d5476da1",
   "metadata": {},
   "outputs": [],
   "source": [
    "batch_size = 32\n",
    "train_loader = DataLoader(train_dataset, batch_size=batch_size, shuffle=True)\n",
    "val_loader = DataLoader(val_dataset, batch_size=batch_size, shuffle=False)\n",
    "test_loader = DataLoader(test_dataset, batch_size=batch_size, shuffle=False)"
   ]
  },
  {
   "cell_type": "code",
   "execution_count": 5,
   "id": "9763b165",
   "metadata": {},
   "outputs": [
    {
     "name": "stdout",
     "output_type": "stream",
     "text": [
      "Train samples: 152\n",
      "Validation samples: 1678\n",
      "Test samples: 283\n",
      "Train samples: 5\n",
      "Validation samples: 53\n",
      "Test samples: 9\n"
     ]
    }
   ],
   "source": [
    "print(f\"Train samples: {len(train_dataset)}\")\n",
    "print(f\"Validation samples: {len(val_dataset)}\")\n",
    "print(f\"Test samples: {len(test_dataset)}\")\n",
    "\n",
    "print(f\"Train samples: {len(train_loader)}\")\n",
    "print(f\"Validation samples: {len(val_loader)}\")\n",
    "print(f\"Test samples: {len(test_loader)}\")"
   ]
  },
  {
   "cell_type": "code",
   "execution_count": 6,
   "id": "3503cb0e",
   "metadata": {},
   "outputs": [],
   "source": [
    "model_name = \"CustomBaselineCNN\"\n",
    "model = CustomBaselineCNN(num_outputs=3)\n",
    "criterion = nn.MSELoss()\n",
    "optimizer = optim.Adam(model.parameters(), lr=0.001)"
   ]
  },
  {
   "cell_type": "code",
   "execution_count": 7,
   "id": "e0af91f8",
   "metadata": {},
   "outputs": [],
   "source": [
    "device = 'cuda:1' if torch.cuda.is_available() else 'cpu'\n",
    "num_epochs = 100"
   ]
  },
  {
   "cell_type": "code",
   "execution_count": 8,
   "id": "1dc4de43",
   "metadata": {},
   "outputs": [
    {
     "name": "stdout",
     "output_type": "stream",
     "text": [
      "Number of parameters in the model: 430723\n"
     ]
    },
    {
     "name": "stderr",
     "output_type": "stream",
     "text": [
      "                                                                                  \r"
     ]
    },
    {
     "name": "stdout",
     "output_type": "stream",
     "text": [
      "Epoch [1/100] Validation Loss: 0.0011\n"
     ]
    },
    {
     "name": "stderr",
     "output_type": "stream",
     "text": [
      "                                                                                   \r"
     ]
    },
    {
     "name": "stdout",
     "output_type": "stream",
     "text": [
      "Epoch [11/100] Validation Loss: 0.0017\n"
     ]
    },
    {
     "name": "stderr",
     "output_type": "stream",
     "text": [
      "                                                                                   \r"
     ]
    },
    {
     "name": "stdout",
     "output_type": "stream",
     "text": [
      "Epoch [21/100] Validation Loss: 0.0017\n"
     ]
    },
    {
     "name": "stderr",
     "output_type": "stream",
     "text": [
      "                                                                                   \r"
     ]
    },
    {
     "name": "stdout",
     "output_type": "stream",
     "text": [
      "Epoch [31/100] Validation Loss: 0.0016\n"
     ]
    },
    {
     "name": "stderr",
     "output_type": "stream",
     "text": [
      "                                                                                   \r"
     ]
    },
    {
     "name": "stdout",
     "output_type": "stream",
     "text": [
      "Epoch [41/100] Validation Loss: 0.0017\n"
     ]
    },
    {
     "name": "stderr",
     "output_type": "stream",
     "text": [
      "                                                                                   \r"
     ]
    },
    {
     "name": "stdout",
     "output_type": "stream",
     "text": [
      "Epoch [51/100] Validation Loss: 0.0016\n",
      "Early stopping triggered.\n",
      "Loading the best model for testing at path ../saved_models/CustomBaselineCNN_best.pth\n",
      "Train Loss: 0.0013\n",
      "Validation Loss: 0.0011\n",
      "Test Loss: 0.0010\n"
     ]
    }
   ],
   "source": [
    "train_model(\n",
    "    model_name=model_name,\n",
    "    model=model,\n",
    "    train_loader=train_loader,\n",
    "    val_loader=val_loader,\n",
    "    test_loader=test_loader,\n",
    "    criterion=criterion,\n",
    "    optimizer=optimizer,\n",
    "    num_epochs=100,\n",
    "    device=device\n",
    ")"
   ]
  },
  {
   "cell_type": "code",
   "execution_count": null,
   "id": "a119d826",
   "metadata": {},
   "outputs": [],
   "source": []
  }
 ],
 "metadata": {
  "kernelspec": {
   "display_name": ".venv_applev",
   "language": "python",
   "name": "python3"
  },
  "language_info": {
   "codemirror_mode": {
    "name": "ipython",
    "version": 3
   },
   "file_extension": ".py",
   "mimetype": "text/x-python",
   "name": "python",
   "nbconvert_exporter": "python",
   "pygments_lexer": "ipython3",
   "version": "3.9.6"
  }
 },
 "nbformat": 4,
 "nbformat_minor": 5
}
